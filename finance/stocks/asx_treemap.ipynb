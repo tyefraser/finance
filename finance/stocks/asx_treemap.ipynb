{
 "cells": [
  {
   "cell_type": "code",
   "execution_count": 3,
   "metadata": {},
   "outputs": [],
   "source": [
    "import pyasx.data.companies\n",
    "import pandas as pd\n",
    "import plotly.express as px\n",
    "import nbformat\n",
    "import plotly"
   ]
  },
  {
   "cell_type": "code",
   "execution_count": 4,
   "metadata": {},
   "outputs": [],
   "source": [
    "def treemap_df(df: pd.DataFrame, path: list, value_column: str, top_n: int = 100, ignore_negative: bool = True):\n",
    "    \"\"\"\n",
    "    Process the DataFrame by maintaining the top N rows based on the value_column\n",
    "    and grouping the remaining rows by the values in the path, combining them into\n",
    "    one row with the label 'other' in place of the last column referenced in the path.\n",
    "\n",
    "    Parameters:\n",
    "    - df: DataFrame\n",
    "    - path: list of columns\n",
    "    - value_column: string, the column based on which top N rows are maintained\n",
    "    - top_n: int, the number of top rows to keep based on value_column\n",
    "    - ignore_negative: bool, if True, negative values in value_column will be ignored\n",
    "\n",
    "    Returns:\n",
    "    - processed_df: DataFrame, the processed DataFrame\n",
    "    \"\"\"\n",
    "    # Input validation\n",
    "    if not all(col in df.columns for col in path + [value_column]):\n",
    "        raise ValueError(\"Columns not present in the DataFrame.\")\n",
    "\n",
    "    # Create a copy of the specified columns\n",
    "    selected_df = df.filter(items=path + [value_column]).copy()\n",
    "\n",
    "    # Drop NaN values from the value_column\n",
    "    selected_df = selected_df.dropna(subset=[value_column])\n",
    "\n",
    "    # Handle negative values based on the ignore_negative parameter\n",
    "    if ignore_negative:\n",
    "        selected_df = selected_df[selected_df[value_column] > 0]\n",
    "\n",
    "    # Sort the DataFrame by value_column\n",
    "    selected_df.sort_values([value_column], ascending=[False], inplace=True)\n",
    "\n",
    "    # Identify the top N rows based on value_column\n",
    "    top_n_df = selected_df.head(top_n)\n",
    "\n",
    "    # Identify the 'other' rows\n",
    "    other_df = selected_df.iloc[top_n:]\n",
    "\n",
    "    # Set the value 'other' in the last column specified in the path for all rows in 'other_df'\n",
    "    other_df.loc[:, path[-1]] = 'other'\n",
    "\n",
    "    # Combine 'other' rows into one row with 'other' label\n",
    "    other_df = other_df.groupby(path, as_index=False).agg({value_column: 'sum'})\n",
    "\n",
    "    # Concatenate the top N rows and the 'other' rows\n",
    "    processed_df = pd.concat([top_n_df, other_df], ignore_index=True)\n",
    "\n",
    "    return processed_df\n"
   ]
  },
  {
   "cell_type": "code",
   "execution_count": null,
   "metadata": {},
   "outputs": [],
   "source": [
    "def generate_treemap(\n",
    "        df: pd.DataFrame,\n",
    "        path: list,\n",
    "        value_column: str,\n",
    "        top_n: int = 100,\n",
    "        ignore_negative: bool = True):\n",
    "\n",
    "    # Get data to map\n",
    "    data = treemap_df(\n",
    "        df = df,\n",
    "        path = path,\n",
    "        value_column = value_column,\n",
    "        top_n = top_n,\n",
    "        ignore_negative = ignore_negative)\n",
    "\n",
    "    fig = px.treemap(data, path=path, values=value_column)\n",
    "\n",
    "    return fig"
   ]
  },
  {
   "cell_type": "code",
   "execution_count": 5,
   "metadata": {},
   "outputs": [],
   "source": [
    "# Get latest asx companies\n",
    "all_asx_companies = pyasx.data.companies.get_listed_companies()\n",
    "\n",
    "# Convert all_asx_companies to dataframe\n",
    "all_asx_companies_df = pd.DataFrame(all_asx_companies)\n",
    "gics = all_asx_companies_df['gics_industry'].copy()\n",
    "all_asx_companies_df['gics_industry'] = all_asx_companies_df['listing_date']\n",
    "all_asx_companies_df['listing_date'] = gics\n",
    "all_asx_companies_df = all_asx_companies_df.drop('market_cap', axis=1)"
   ]
  },
  {
   "cell_type": "code",
   "execution_count": 6,
   "metadata": {},
   "outputs": [],
   "source": [
    "# Add in market cap values\n",
    "for ticker in all_asx_companies_df['ticker']:\n",
    "    try:\n",
    "        market_cap = pyasx.data.companies.get_company_info(ticker)['primary_share']['market_cap']\n",
    "    except:\n",
    "        market_cap = None\n",
    "\n",
    "    all_asx_companies_df.loc[all_asx_companies_df['ticker'] == ticker, 'market_cap'] = market_cap\n"
   ]
  },
  {
   "cell_type": "code",
   "execution_count": 11,
   "metadata": {},
   "outputs": [
    {
     "name": "stderr",
     "output_type": "stream",
     "text": [
      "C:\\Users\\tyewf\\AppData\\Local\\Temp\\ipykernel_8748\\2753359423.py:41: SettingWithCopyWarning:\n",
      "\n",
      "\n",
      "A value is trying to be set on a copy of a slice from a DataFrame.\n",
      "Try using .loc[row_indexer,col_indexer] = value instead\n",
      "\n",
      "See the caveats in the documentation: https://pandas.pydata.org/pandas-docs/stable/user_guide/indexing.html#returning-a-view-versus-a-copy\n",
      "\n"
     ]
    }
   ],
   "source": [
    "tree_fig = generate_treemap(\n",
    "    df = all_asx_companies_df,\n",
    "    path = ['gics_industry', 'ticker'],\n",
    "    value_column = 'market_cap',\n",
    "    top_n = 100,\n",
    "    ignore_negative = True)"
   ]
  },
  {
   "cell_type": "code",
   "execution_count": 12,
   "metadata": {},
   "outputs": [
    {
     "data": {
      "application/vnd.plotly.v1+json": {
       "config": {
        "plotlyServerURL": "https://plot.ly"
       },
       "data": [
        {
         "branchvalues": "total",
         "domain": {
          "x": [
           0,
           1
          ],
          "y": [
           0,
           1
          ]
         },
         "hovertemplate": "labels=%{label}<br>market_cap=%{value}<br>parent=%{parent}<br>id=%{id}<extra></extra>",
         "ids": [
          "Not Applic/AFI",
          "Utilities/AGL",
          "Transportation/AIA",
          "Materials/AKE",
          "Energy/ALD",
          "Consumer Services/ALL",
          "Commercial & Professional Services/ALQ",
          "Software & Services/ALU",
          "Transportation/ALX",
          "Materials/AMC",
          "Banks/ANZ",
          "Utilities/APA",
          "Not Applic/ARG",
          "Financial Services/ASX",
          "Materials/ATM",
          "Transportation/AZJ",
          "Banks/BEN",
          "Materials/BHP",
          "Materials/BLD",
          "Materials/BSL",
          "Commercial & Professional Services/BXB",
          "Media & Entertainment/CAR",
          "Banks/CBA",
          "Utilities/CEN",
          "Health Care Equipment & Services/COH",
          "Consumer Staples Distribution & Retail/COL",
          "Commercial & Professional Services/CPU",
          "Pharmaceuticals, Biotechnology & Life Sciences/CSL",
          "Commercial & Professional Services/CWY",
          "Consumer Services/DMP",
          "Equity Real Estate Investment Trusts (REITs)/DXS",
          "Health Care Equipment & Services/EBO",
          "Consumer Staples Distribution & Retail/EDV",
          "Materials/EVN",
          "Materials/FMG",
          "Health Care Equipment & Services/FPH",
          "Equity Real Estate Investment Trusts (REITs)/GMG",
          "Equity Real Estate Investment Trusts (REITs)/GPT",
          "Insurance/IAG",
          "Consumer Services/IEL",
          "Capital Goods/IFT",
          "Materials/IGO",
          "Materials/IPL",
          "Consumer Discretionary Distribution & Retail/JBH",
          "Financial Services/JHG",
          "Materials/JHX",
          "Consumer Services/LNW",
          "Materials/LYC",
          "Utilities/MCY",
          "Utilities/MEZ",
          "Equity Real Estate Investment Trusts (REITs)/MGR",
          "Materials/MIN",
          "Insurance/MPL",
          "Financial Services/MQG",
          "Banks/NAB",
          "Materials/NEM",
          "Materials/NST",
          "Media & Entertainment/NWS",
          "Software & Services/NXT",
          "Utilities/ORG",
          "Materials/ORI",
          "Materials/PLS",
          "Health Care Equipment & Services/PME",
          "Transportation/QAN",
          "Insurance/QBE",
          "Transportation/QUB",
          "Media & Entertainment/REA",
          "Capital Goods/REH",
          "Health Care Equipment & Services/RHC",
          "Materials/RIO",
          "Health Care Equipment & Services/RMD",
          "Materials/S32",
          "Equity Real Estate Investment Trusts (REITs)/SCG",
          "Insurance/SDF",
          "Media & Entertainment/SEK",
          "Equity Real Estate Investment Trusts (REITs)/SGP",
          "Health Care Equipment & Services/SHL",
          "Financial Services/SOL",
          "Telecommunication Services/SPK",
          "Financial Services/SQ2",
          "Energy/STO",
          "Insurance/SUN",
          "Capital Goods/SVW",
          "Transportation/TCL",
          "Consumer Services/TLC",
          "Telecommunication Services/TLS",
          "Software & Services/TNE",
          "Telecommunication Services/TPG",
          "Food, Beverage & Tobacco/TWE",
          "Equity Real Estate Investment Trusts (REITs)/URW",
          "Equity Real Estate Investment Trusts (REITs)/VCX",
          "Banks/WBC",
          "Energy/WDS",
          "Consumer Discretionary Distribution & Retail/WES",
          "Energy/WHC",
          "Capital Goods/WOR",
          "Consumer Staples Distribution & Retail/WOW",
          "Software & Services/WTC",
          "Software & Services/XRO",
          "Energy/YAL",
          "Automobiles & Components/other",
          "Banks/other",
          "Capital Goods/other",
          "Class Pend/other",
          "Commercial & Professional Services/other",
          "Consumer Discretionary Distribution & Retail/other",
          "Consumer Durables & Apparel/other",
          "Consumer Services/other",
          "Consumer Staples Distribution & Retail/other",
          "Energy/other",
          "Equity Real Estate Investment Trusts (REITs)/other",
          "Financial Services/other",
          "Food, Beverage & Tobacco/other",
          "Health Care Equipment & Services/other",
          "Household & Personal Products/other",
          "Insurance/other",
          "Materials/other",
          "Media & Entertainment/other",
          "Not Applic/other",
          "Pharmaceuticals, Biotechnology & Life Sciences/other",
          "Real Estate Management & Development/other",
          "Semiconductors & Semiconductor Equipment/other",
          "Software & Services/other",
          "Technology Hardware & Equipment/other",
          "Telecommunication Services/other",
          "Transportation/other",
          "Utilities/other",
          "Automobiles & Components",
          "Banks",
          "Capital Goods",
          "Class Pend",
          "Commercial & Professional Services",
          "Consumer Discretionary Distribution & Retail",
          "Consumer Durables & Apparel",
          "Consumer Services",
          "Consumer Staples Distribution & Retail",
          "Energy",
          "Equity Real Estate Investment Trusts (REITs)",
          "Financial Services",
          "Food, Beverage & Tobacco",
          "Health Care Equipment & Services",
          "Household & Personal Products",
          "Insurance",
          "Materials",
          "Media & Entertainment",
          "Not Applic",
          "Pharmaceuticals, Biotechnology & Life Sciences",
          "Real Estate Management & Development",
          "Semiconductors & Semiconductor Equipment",
          "Software & Services",
          "Technology Hardware & Equipment",
          "Telecommunication Services",
          "Transportation",
          "Utilities"
         ],
         "labels": [
          "AFI",
          "AGL",
          "AIA",
          "AKE",
          "ALD",
          "ALL",
          "ALQ",
          "ALU",
          "ALX",
          "AMC",
          "ANZ",
          "APA",
          "ARG",
          "ASX",
          "ATM",
          "AZJ",
          "BEN",
          "BHP",
          "BLD",
          "BSL",
          "BXB",
          "CAR",
          "CBA",
          "CEN",
          "COH",
          "COL",
          "CPU",
          "CSL",
          "CWY",
          "DMP",
          "DXS",
          "EBO",
          "EDV",
          "EVN",
          "FMG",
          "FPH",
          "GMG",
          "GPT",
          "IAG",
          "IEL",
          "IFT",
          "IGO",
          "IPL",
          "JBH",
          "JHG",
          "JHX",
          "LNW",
          "LYC",
          "MCY",
          "MEZ",
          "MGR",
          "MIN",
          "MPL",
          "MQG",
          "NAB",
          "NEM",
          "NST",
          "NWS",
          "NXT",
          "ORG",
          "ORI",
          "PLS",
          "PME",
          "QAN",
          "QBE",
          "QUB",
          "REA",
          "REH",
          "RHC",
          "RIO",
          "RMD",
          "S32",
          "SCG",
          "SDF",
          "SEK",
          "SGP",
          "SHL",
          "SOL",
          "SPK",
          "SQ2",
          "STO",
          "SUN",
          "SVW",
          "TCL",
          "TLC",
          "TLS",
          "TNE",
          "TPG",
          "TWE",
          "URW",
          "VCX",
          "WBC",
          "WDS",
          "WES",
          "WHC",
          "WOR",
          "WOW",
          "WTC",
          "XRO",
          "YAL",
          "other",
          "other",
          "other",
          "other",
          "other",
          "other",
          "other",
          "other",
          "other",
          "other",
          "other",
          "other",
          "other",
          "other",
          "other",
          "other",
          "other",
          "other",
          "other",
          "other",
          "other",
          "other",
          "other",
          "other",
          "other",
          "other",
          "other",
          "Automobiles & Components",
          "Banks",
          "Capital Goods",
          "Class Pend",
          "Commercial & Professional Services",
          "Consumer Discretionary Distribution & Retail",
          "Consumer Durables & Apparel",
          "Consumer Services",
          "Consumer Staples Distribution & Retail",
          "Energy",
          "Equity Real Estate Investment Trusts (REITs)",
          "Financial Services",
          "Food, Beverage & Tobacco",
          "Health Care Equipment & Services",
          "Household & Personal Products",
          "Insurance",
          "Materials",
          "Media & Entertainment",
          "Not Applic",
          "Pharmaceuticals, Biotechnology & Life Sciences",
          "Real Estate Management & Development",
          "Semiconductors & Semiconductor Equipment",
          "Software & Services",
          "Technology Hardware & Equipment",
          "Telecommunication Services",
          "Transportation",
          "Utilities"
         ],
         "name": "",
         "parents": [
          "Not Applic",
          "Utilities",
          "Transportation",
          "Materials",
          "Energy",
          "Consumer Services",
          "Commercial & Professional Services",
          "Software & Services",
          "Transportation",
          "Materials",
          "Banks",
          "Utilities",
          "Not Applic",
          "Financial Services",
          "Materials",
          "Transportation",
          "Banks",
          "Materials",
          "Materials",
          "Materials",
          "Commercial & Professional Services",
          "Media & Entertainment",
          "Banks",
          "Utilities",
          "Health Care Equipment & Services",
          "Consumer Staples Distribution & Retail",
          "Commercial & Professional Services",
          "Pharmaceuticals, Biotechnology & Life Sciences",
          "Commercial & Professional Services",
          "Consumer Services",
          "Equity Real Estate Investment Trusts (REITs)",
          "Health Care Equipment & Services",
          "Consumer Staples Distribution & Retail",
          "Materials",
          "Materials",
          "Health Care Equipment & Services",
          "Equity Real Estate Investment Trusts (REITs)",
          "Equity Real Estate Investment Trusts (REITs)",
          "Insurance",
          "Consumer Services",
          "Capital Goods",
          "Materials",
          "Materials",
          "Consumer Discretionary Distribution & Retail",
          "Financial Services",
          "Materials",
          "Consumer Services",
          "Materials",
          "Utilities",
          "Utilities",
          "Equity Real Estate Investment Trusts (REITs)",
          "Materials",
          "Insurance",
          "Financial Services",
          "Banks",
          "Materials",
          "Materials",
          "Media & Entertainment",
          "Software & Services",
          "Utilities",
          "Materials",
          "Materials",
          "Health Care Equipment & Services",
          "Transportation",
          "Insurance",
          "Transportation",
          "Media & Entertainment",
          "Capital Goods",
          "Health Care Equipment & Services",
          "Materials",
          "Health Care Equipment & Services",
          "Materials",
          "Equity Real Estate Investment Trusts (REITs)",
          "Insurance",
          "Media & Entertainment",
          "Equity Real Estate Investment Trusts (REITs)",
          "Health Care Equipment & Services",
          "Financial Services",
          "Telecommunication Services",
          "Financial Services",
          "Energy",
          "Insurance",
          "Capital Goods",
          "Transportation",
          "Consumer Services",
          "Telecommunication Services",
          "Software & Services",
          "Telecommunication Services",
          "Food, Beverage & Tobacco",
          "Equity Real Estate Investment Trusts (REITs)",
          "Equity Real Estate Investment Trusts (REITs)",
          "Banks",
          "Energy",
          "Consumer Discretionary Distribution & Retail",
          "Energy",
          "Capital Goods",
          "Consumer Staples Distribution & Retail",
          "Software & Services",
          "Software & Services",
          "Energy",
          "Automobiles & Components",
          "Banks",
          "Capital Goods",
          "Class Pend",
          "Commercial & Professional Services",
          "Consumer Discretionary Distribution & Retail",
          "Consumer Durables & Apparel",
          "Consumer Services",
          "Consumer Staples Distribution & Retail",
          "Energy",
          "Equity Real Estate Investment Trusts (REITs)",
          "Financial Services",
          "Food, Beverage & Tobacco",
          "Health Care Equipment & Services",
          "Household & Personal Products",
          "Insurance",
          "Materials",
          "Media & Entertainment",
          "Not Applic",
          "Pharmaceuticals, Biotechnology & Life Sciences",
          "Real Estate Management & Development",
          "Semiconductors & Semiconductor Equipment",
          "Software & Services",
          "Technology Hardware & Equipment",
          "Telecommunication Services",
          "Transportation",
          "Utilities",
          "",
          "",
          "",
          "",
          "",
          "",
          "",
          "",
          "",
          "",
          "",
          "",
          "",
          "",
          "",
          "",
          "",
          "",
          "",
          "",
          "",
          "",
          "",
          "",
          "",
          "",
          ""
         ],
         "type": "treemap",
         "values": [
          8713380621,
          7124393197,
          10602368186,
          5907328747,
          7935459897,
          26344510937,
          5267744402,
          5562035490,
          8269752130,
          20494966746,
          77566454528,
          10712698791,
          6447754467,
          11166568944,
          5696836064,
          6571313216,
          5205562030,
          227839853426,
          5261731759,
          8853838138,
          18937749940,
          11072999863,
          171088126401,
          5591126126,
          16635121760,
          20718300946,
          15032860466,
          121877258375,
          5660223587,
          4843373376,
          7528956722,
          6703678940,
          8739982483,
          6779208473,
          72201727327,
          11719089085,
          42674621135,
          7489907751,
          14082388649,
          6616051735,
          7919592676,
          7012299948,
          5593608084,
          5074190058,
          6690885466,
          20505279732,
          11222183034,
          6592737268,
          7721311176,
          11926104372,
          7793073929,
          11689715173,
          9556391243,
          63173490209,
          90551781947,
          61099527876,
          13641254647,
          19845113372,
          6501332795,
          15280771842,
          7051009318,
          11225295722,
          8943460988,
          9191343444,
          23140748152,
          5070463474,
          21084586661,
          12293078964,
          12155449823,
          44590491866,
          33802554632,
          14493627418,
          13339272331,
          5691319185,
          7990018862,
          9166739182,
          14417915878,
          12410075130,
          8574272891,
          46988036968,
          23708742615,
          17186654520,
          10536710311,
          38942921401,
          10305322985,
          45755532318,
          5064925757,
          10207785763,
          8149665907,
          11679476844,
          8171334268,
          74357340782,
          62203042498,
          60220019575,
          5772545410,
          8917900474,
          43305153828,
          20645549063,
          15217995888,
          6285291720,
          5655637603,
          13219402978,
          24324181908,
          68723619,
          14131512104,
          30193073121,
          4435472870,
          21541277166,
          5331632752,
          32628185666,
          40224215664,
          41179246491,
          12097881967,
          17501052268,
          215026498,
          9178530498,
          122328094787,
          10849630842,
          32475480393,
          12058230071,
          12360132831,
          1248017843,
          19680052230,
          5801054321,
          5961282525,
          9031598640,
          3357742354,
          5655637603,
          431988668666,
          63991464333,
          68723619,
          59030090499,
          95487282754,
          4435472870,
          80872719233,
          78095070009,
          138533267806,
          148067597826,
          181608303208,
          20247547874,
          121878323374,
          215026498,
          78836032247,
          678858432519,
          70842349600,
          47636615481,
          133935488446,
          12360132831,
          1248017843,
          72671891223,
          5801054321,
          70498873497,
          87679760491,
          61714147858
         ]
        }
       ],
       "layout": {
        "legend": {
         "tracegroupgap": 0
        },
        "margin": {
         "t": 60
        },
        "template": {
         "data": {
          "bar": [
           {
            "error_x": {
             "color": "#2a3f5f"
            },
            "error_y": {
             "color": "#2a3f5f"
            },
            "marker": {
             "line": {
              "color": "#E5ECF6",
              "width": 0.5
             },
             "pattern": {
              "fillmode": "overlay",
              "size": 10,
              "solidity": 0.2
             }
            },
            "type": "bar"
           }
          ],
          "barpolar": [
           {
            "marker": {
             "line": {
              "color": "#E5ECF6",
              "width": 0.5
             },
             "pattern": {
              "fillmode": "overlay",
              "size": 10,
              "solidity": 0.2
             }
            },
            "type": "barpolar"
           }
          ],
          "carpet": [
           {
            "aaxis": {
             "endlinecolor": "#2a3f5f",
             "gridcolor": "white",
             "linecolor": "white",
             "minorgridcolor": "white",
             "startlinecolor": "#2a3f5f"
            },
            "baxis": {
             "endlinecolor": "#2a3f5f",
             "gridcolor": "white",
             "linecolor": "white",
             "minorgridcolor": "white",
             "startlinecolor": "#2a3f5f"
            },
            "type": "carpet"
           }
          ],
          "choropleth": [
           {
            "colorbar": {
             "outlinewidth": 0,
             "ticks": ""
            },
            "type": "choropleth"
           }
          ],
          "contour": [
           {
            "colorbar": {
             "outlinewidth": 0,
             "ticks": ""
            },
            "colorscale": [
             [
              0,
              "#0d0887"
             ],
             [
              0.1111111111111111,
              "#46039f"
             ],
             [
              0.2222222222222222,
              "#7201a8"
             ],
             [
              0.3333333333333333,
              "#9c179e"
             ],
             [
              0.4444444444444444,
              "#bd3786"
             ],
             [
              0.5555555555555556,
              "#d8576b"
             ],
             [
              0.6666666666666666,
              "#ed7953"
             ],
             [
              0.7777777777777778,
              "#fb9f3a"
             ],
             [
              0.8888888888888888,
              "#fdca26"
             ],
             [
              1,
              "#f0f921"
             ]
            ],
            "type": "contour"
           }
          ],
          "contourcarpet": [
           {
            "colorbar": {
             "outlinewidth": 0,
             "ticks": ""
            },
            "type": "contourcarpet"
           }
          ],
          "heatmap": [
           {
            "colorbar": {
             "outlinewidth": 0,
             "ticks": ""
            },
            "colorscale": [
             [
              0,
              "#0d0887"
             ],
             [
              0.1111111111111111,
              "#46039f"
             ],
             [
              0.2222222222222222,
              "#7201a8"
             ],
             [
              0.3333333333333333,
              "#9c179e"
             ],
             [
              0.4444444444444444,
              "#bd3786"
             ],
             [
              0.5555555555555556,
              "#d8576b"
             ],
             [
              0.6666666666666666,
              "#ed7953"
             ],
             [
              0.7777777777777778,
              "#fb9f3a"
             ],
             [
              0.8888888888888888,
              "#fdca26"
             ],
             [
              1,
              "#f0f921"
             ]
            ],
            "type": "heatmap"
           }
          ],
          "heatmapgl": [
           {
            "colorbar": {
             "outlinewidth": 0,
             "ticks": ""
            },
            "colorscale": [
             [
              0,
              "#0d0887"
             ],
             [
              0.1111111111111111,
              "#46039f"
             ],
             [
              0.2222222222222222,
              "#7201a8"
             ],
             [
              0.3333333333333333,
              "#9c179e"
             ],
             [
              0.4444444444444444,
              "#bd3786"
             ],
             [
              0.5555555555555556,
              "#d8576b"
             ],
             [
              0.6666666666666666,
              "#ed7953"
             ],
             [
              0.7777777777777778,
              "#fb9f3a"
             ],
             [
              0.8888888888888888,
              "#fdca26"
             ],
             [
              1,
              "#f0f921"
             ]
            ],
            "type": "heatmapgl"
           }
          ],
          "histogram": [
           {
            "marker": {
             "pattern": {
              "fillmode": "overlay",
              "size": 10,
              "solidity": 0.2
             }
            },
            "type": "histogram"
           }
          ],
          "histogram2d": [
           {
            "colorbar": {
             "outlinewidth": 0,
             "ticks": ""
            },
            "colorscale": [
             [
              0,
              "#0d0887"
             ],
             [
              0.1111111111111111,
              "#46039f"
             ],
             [
              0.2222222222222222,
              "#7201a8"
             ],
             [
              0.3333333333333333,
              "#9c179e"
             ],
             [
              0.4444444444444444,
              "#bd3786"
             ],
             [
              0.5555555555555556,
              "#d8576b"
             ],
             [
              0.6666666666666666,
              "#ed7953"
             ],
             [
              0.7777777777777778,
              "#fb9f3a"
             ],
             [
              0.8888888888888888,
              "#fdca26"
             ],
             [
              1,
              "#f0f921"
             ]
            ],
            "type": "histogram2d"
           }
          ],
          "histogram2dcontour": [
           {
            "colorbar": {
             "outlinewidth": 0,
             "ticks": ""
            },
            "colorscale": [
             [
              0,
              "#0d0887"
             ],
             [
              0.1111111111111111,
              "#46039f"
             ],
             [
              0.2222222222222222,
              "#7201a8"
             ],
             [
              0.3333333333333333,
              "#9c179e"
             ],
             [
              0.4444444444444444,
              "#bd3786"
             ],
             [
              0.5555555555555556,
              "#d8576b"
             ],
             [
              0.6666666666666666,
              "#ed7953"
             ],
             [
              0.7777777777777778,
              "#fb9f3a"
             ],
             [
              0.8888888888888888,
              "#fdca26"
             ],
             [
              1,
              "#f0f921"
             ]
            ],
            "type": "histogram2dcontour"
           }
          ],
          "mesh3d": [
           {
            "colorbar": {
             "outlinewidth": 0,
             "ticks": ""
            },
            "type": "mesh3d"
           }
          ],
          "parcoords": [
           {
            "line": {
             "colorbar": {
              "outlinewidth": 0,
              "ticks": ""
             }
            },
            "type": "parcoords"
           }
          ],
          "pie": [
           {
            "automargin": true,
            "type": "pie"
           }
          ],
          "scatter": [
           {
            "fillpattern": {
             "fillmode": "overlay",
             "size": 10,
             "solidity": 0.2
            },
            "type": "scatter"
           }
          ],
          "scatter3d": [
           {
            "line": {
             "colorbar": {
              "outlinewidth": 0,
              "ticks": ""
             }
            },
            "marker": {
             "colorbar": {
              "outlinewidth": 0,
              "ticks": ""
             }
            },
            "type": "scatter3d"
           }
          ],
          "scattercarpet": [
           {
            "marker": {
             "colorbar": {
              "outlinewidth": 0,
              "ticks": ""
             }
            },
            "type": "scattercarpet"
           }
          ],
          "scattergeo": [
           {
            "marker": {
             "colorbar": {
              "outlinewidth": 0,
              "ticks": ""
             }
            },
            "type": "scattergeo"
           }
          ],
          "scattergl": [
           {
            "marker": {
             "colorbar": {
              "outlinewidth": 0,
              "ticks": ""
             }
            },
            "type": "scattergl"
           }
          ],
          "scattermapbox": [
           {
            "marker": {
             "colorbar": {
              "outlinewidth": 0,
              "ticks": ""
             }
            },
            "type": "scattermapbox"
           }
          ],
          "scatterpolar": [
           {
            "marker": {
             "colorbar": {
              "outlinewidth": 0,
              "ticks": ""
             }
            },
            "type": "scatterpolar"
           }
          ],
          "scatterpolargl": [
           {
            "marker": {
             "colorbar": {
              "outlinewidth": 0,
              "ticks": ""
             }
            },
            "type": "scatterpolargl"
           }
          ],
          "scatterternary": [
           {
            "marker": {
             "colorbar": {
              "outlinewidth": 0,
              "ticks": ""
             }
            },
            "type": "scatterternary"
           }
          ],
          "surface": [
           {
            "colorbar": {
             "outlinewidth": 0,
             "ticks": ""
            },
            "colorscale": [
             [
              0,
              "#0d0887"
             ],
             [
              0.1111111111111111,
              "#46039f"
             ],
             [
              0.2222222222222222,
              "#7201a8"
             ],
             [
              0.3333333333333333,
              "#9c179e"
             ],
             [
              0.4444444444444444,
              "#bd3786"
             ],
             [
              0.5555555555555556,
              "#d8576b"
             ],
             [
              0.6666666666666666,
              "#ed7953"
             ],
             [
              0.7777777777777778,
              "#fb9f3a"
             ],
             [
              0.8888888888888888,
              "#fdca26"
             ],
             [
              1,
              "#f0f921"
             ]
            ],
            "type": "surface"
           }
          ],
          "table": [
           {
            "cells": {
             "fill": {
              "color": "#EBF0F8"
             },
             "line": {
              "color": "white"
             }
            },
            "header": {
             "fill": {
              "color": "#C8D4E3"
             },
             "line": {
              "color": "white"
             }
            },
            "type": "table"
           }
          ]
         },
         "layout": {
          "annotationdefaults": {
           "arrowcolor": "#2a3f5f",
           "arrowhead": 0,
           "arrowwidth": 1
          },
          "autotypenumbers": "strict",
          "coloraxis": {
           "colorbar": {
            "outlinewidth": 0,
            "ticks": ""
           }
          },
          "colorscale": {
           "diverging": [
            [
             0,
             "#8e0152"
            ],
            [
             0.1,
             "#c51b7d"
            ],
            [
             0.2,
             "#de77ae"
            ],
            [
             0.3,
             "#f1b6da"
            ],
            [
             0.4,
             "#fde0ef"
            ],
            [
             0.5,
             "#f7f7f7"
            ],
            [
             0.6,
             "#e6f5d0"
            ],
            [
             0.7,
             "#b8e186"
            ],
            [
             0.8,
             "#7fbc41"
            ],
            [
             0.9,
             "#4d9221"
            ],
            [
             1,
             "#276419"
            ]
           ],
           "sequential": [
            [
             0,
             "#0d0887"
            ],
            [
             0.1111111111111111,
             "#46039f"
            ],
            [
             0.2222222222222222,
             "#7201a8"
            ],
            [
             0.3333333333333333,
             "#9c179e"
            ],
            [
             0.4444444444444444,
             "#bd3786"
            ],
            [
             0.5555555555555556,
             "#d8576b"
            ],
            [
             0.6666666666666666,
             "#ed7953"
            ],
            [
             0.7777777777777778,
             "#fb9f3a"
            ],
            [
             0.8888888888888888,
             "#fdca26"
            ],
            [
             1,
             "#f0f921"
            ]
           ],
           "sequentialminus": [
            [
             0,
             "#0d0887"
            ],
            [
             0.1111111111111111,
             "#46039f"
            ],
            [
             0.2222222222222222,
             "#7201a8"
            ],
            [
             0.3333333333333333,
             "#9c179e"
            ],
            [
             0.4444444444444444,
             "#bd3786"
            ],
            [
             0.5555555555555556,
             "#d8576b"
            ],
            [
             0.6666666666666666,
             "#ed7953"
            ],
            [
             0.7777777777777778,
             "#fb9f3a"
            ],
            [
             0.8888888888888888,
             "#fdca26"
            ],
            [
             1,
             "#f0f921"
            ]
           ]
          },
          "colorway": [
           "#636efa",
           "#EF553B",
           "#00cc96",
           "#ab63fa",
           "#FFA15A",
           "#19d3f3",
           "#FF6692",
           "#B6E880",
           "#FF97FF",
           "#FECB52"
          ],
          "font": {
           "color": "#2a3f5f"
          },
          "geo": {
           "bgcolor": "white",
           "lakecolor": "white",
           "landcolor": "#E5ECF6",
           "showlakes": true,
           "showland": true,
           "subunitcolor": "white"
          },
          "hoverlabel": {
           "align": "left"
          },
          "hovermode": "closest",
          "mapbox": {
           "style": "light"
          },
          "paper_bgcolor": "white",
          "plot_bgcolor": "#E5ECF6",
          "polar": {
           "angularaxis": {
            "gridcolor": "white",
            "linecolor": "white",
            "ticks": ""
           },
           "bgcolor": "#E5ECF6",
           "radialaxis": {
            "gridcolor": "white",
            "linecolor": "white",
            "ticks": ""
           }
          },
          "scene": {
           "xaxis": {
            "backgroundcolor": "#E5ECF6",
            "gridcolor": "white",
            "gridwidth": 2,
            "linecolor": "white",
            "showbackground": true,
            "ticks": "",
            "zerolinecolor": "white"
           },
           "yaxis": {
            "backgroundcolor": "#E5ECF6",
            "gridcolor": "white",
            "gridwidth": 2,
            "linecolor": "white",
            "showbackground": true,
            "ticks": "",
            "zerolinecolor": "white"
           },
           "zaxis": {
            "backgroundcolor": "#E5ECF6",
            "gridcolor": "white",
            "gridwidth": 2,
            "linecolor": "white",
            "showbackground": true,
            "ticks": "",
            "zerolinecolor": "white"
           }
          },
          "shapedefaults": {
           "line": {
            "color": "#2a3f5f"
           }
          },
          "ternary": {
           "aaxis": {
            "gridcolor": "white",
            "linecolor": "white",
            "ticks": ""
           },
           "baxis": {
            "gridcolor": "white",
            "linecolor": "white",
            "ticks": ""
           },
           "bgcolor": "#E5ECF6",
           "caxis": {
            "gridcolor": "white",
            "linecolor": "white",
            "ticks": ""
           }
          },
          "title": {
           "x": 0.05
          },
          "xaxis": {
           "automargin": true,
           "gridcolor": "white",
           "linecolor": "white",
           "ticks": "",
           "title": {
            "standoff": 15
           },
           "zerolinecolor": "white",
           "zerolinewidth": 2
          },
          "yaxis": {
           "automargin": true,
           "gridcolor": "white",
           "linecolor": "white",
           "ticks": "",
           "title": {
            "standoff": 15
           },
           "zerolinecolor": "white",
           "zerolinewidth": 2
          }
         }
        }
       }
      }
     },
     "metadata": {},
     "output_type": "display_data"
    }
   ],
   "source": [
    "# Show the plot\n",
    "tree_fig.show()"
   ]
  }
 ],
 "metadata": {
  "kernelspec": {
   "display_name": "Python 3",
   "language": "python",
   "name": "python3"
  },
  "language_info": {
   "codemirror_mode": {
    "name": "ipython",
    "version": 3
   },
   "file_extension": ".py",
   "mimetype": "text/x-python",
   "name": "python",
   "nbconvert_exporter": "python",
   "pygments_lexer": "ipython3",
   "version": "3.10.11"
  }
 },
 "nbformat": 4,
 "nbformat_minor": 2
}
